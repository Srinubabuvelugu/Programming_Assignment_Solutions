{
 "cells": [
  {
   "cell_type": "markdown",
   "id": "4ecb2543-3ccd-4e60-b0af-3476d2358f56",
   "metadata": {},
   "source": [
    "## Programming_6 Assignment Solutions"
   ]
  },
  {
   "cell_type": "markdown",
   "id": "924c4e67-689b-4ec2-9102-2658c610fc59",
   "metadata": {},
   "source": [
    "1. Write a Python Program to Display Fibonacci Sequence Using Recursion?\n",
    "2. Write a Python Program to Find Factorial of Number Using Recursion?\n",
    "3. Write a Python Program to calculate your Body Mass Index?\n",
    "4. Write a Python Program to calculate the natural logarithm of any number?\n",
    "5. Write a Python Program for cube sum of first n natural numbers?"
   ]
  },
  {
   "cell_type": "markdown",
   "id": "80d62098-bdcc-4c96-9108-074aa2228e49",
   "metadata": {},
   "source": [
    "#### 1. Write a Python Program to Display Fibonacci Sequence Using Recursion?\n"
   ]
  },
  {
   "cell_type": "code",
   "execution_count": 3,
   "id": "8dced1d6-0760-498a-9374-4d74e6e7bdb7",
   "metadata": {},
   "outputs": [
    {
     "name": "stdin",
     "output_type": "stream",
     "text": [
      "Enter a number:  10\n"
     ]
    },
    {
     "name": "stdout",
     "output_type": "stream",
     "text": [
      "0, 1, 1, 2, 3, 5, 8, 13, 21, 34, 55, 89, "
     ]
    }
   ],
   "source": [
    "n=int(input('Enter a number: '))\n",
    "def genFibonacci(n,a,b):\n",
    "    if n == 0:\n",
    "        return 1\n",
    "    else:\n",
    "        result = a+b\n",
    "        print(result, end=', ')\n",
    "        genFibonacci(n-1,b,result)\n",
    " \n",
    "print('0, 1',end=', ')\n",
    "genFibonacci(n,0,1)\n",
    "    \n",
    "    "
   ]
  },
  {
   "cell_type": "markdown",
   "id": "ed3ec28d-b800-41b1-b36f-80a7bf71532e",
   "metadata": {},
   "source": [
    "#### 2. Write a Python Program to Find Factorial of Number Using Recursion?\n"
   ]
  },
  {
   "cell_type": "code",
   "execution_count": 9,
   "id": "5f99ca76-ee7b-4b10-bab4-c70d0aff0b9b",
   "metadata": {},
   "outputs": [
    {
     "name": "stdin",
     "output_type": "stream",
     "text": [
      "Enter a number:  5\n"
     ]
    },
    {
     "data": {
      "text/plain": [
       "120"
      ]
     },
     "execution_count": 9,
     "metadata": {},
     "output_type": "execute_result"
    }
   ],
   "source": [
    "n=int(input('Enter a number: '))\n",
    "def factorial(n):\n",
    "    if n == 0:\n",
    "        return 1\n",
    "    else:\n",
    "        return n*factorial(n-1)\n",
    "factorial(n)"
   ]
  },
  {
   "cell_type": "markdown",
   "id": "beb46e86-291f-4f60-90fd-4ace20af5a2b",
   "metadata": {},
   "source": [
    "#### 3. Write a Python Program to calculate your Body Mass Index?\n"
   ]
  },
  {
   "cell_type": "code",
   "execution_count": 10,
   "id": "100ff09f-7fa0-4586-87d0-f4bd2532c637",
   "metadata": {},
   "outputs": [
    {
     "name": "stdin",
     "output_type": "stream",
     "text": [
      "Enter your Weight(kgs):  68\n",
      "Enter your Height(mts):  1.58\n"
     ]
    },
    {
     "name": "stdout",
     "output_type": "stream",
     "text": [
      "Your're BMI is 27.239224483255885 and status is Overweight \n"
     ]
    }
   ],
   "source": [
    "def calculateBMI():\n",
    "    in_weight = eval(input('Enter your Weight(kgs): '))\n",
    "    in_height = eval(input('Enter your Height(mts): '))\n",
    "    calc_bmi = in_weight/pow(in_height,2)\n",
    "    if (calc_bmi < 18.5):\n",
    "        status = 'Underweight'\n",
    "    elif (calc_bmi >= 18.5 and calc_bmi < 24.9):\n",
    "        status = 'Healthy'\n",
    "    elif (calc_bmi >= 24.9 and calc_bmi < 30):\n",
    "        status = 'Overweight'\n",
    "    elif (calc_bmi >=30):\n",
    "        status = 'Suffering from Obesity'\n",
    "    print(f'Your\\'re BMI is {calc_bmi} and status is {status} ')\n",
    "calculateBMI()"
   ]
  },
  {
   "cell_type": "markdown",
   "id": "95022327-e256-431d-877e-24d0f9583870",
   "metadata": {},
   "source": [
    "#### 4. Write a Python Program to calculate the natural logarithm of any number?\n"
   ]
  },
  {
   "cell_type": "code",
   "execution_count": 12,
   "id": "9c373511-07f2-4420-93e8-2dd3e643fce2",
   "metadata": {},
   "outputs": [
    {
     "name": "stdin",
     "output_type": "stream",
     "text": [
      "Enter a Number: 3\n"
     ]
    },
    {
     "name": "stdout",
     "output_type": "stream",
     "text": [
      "1.0986122886681098\n"
     ]
    }
   ],
   "source": [
    "import math\n",
    "def genNatLog():\n",
    "    in_num = eval(input(\"Enter a Number:\"))\n",
    "    print(math.log(in_num))\n",
    "\n",
    "genNatLog()"
   ]
  },
  {
   "cell_type": "markdown",
   "id": "3f314b3c-778d-4505-a24c-a3ab02354bf7",
   "metadata": {},
   "source": [
    "#### 5. Write a Python Program for cube sum of first n natural numbers?"
   ]
  },
  {
   "cell_type": "code",
   "execution_count": 15,
   "id": "70409f32-2268-4258-837d-a75cd9622f22",
   "metadata": {},
   "outputs": [
    {
     "name": "stdin",
     "output_type": "stream",
     "text": [
      "Enter the no of Natural Numbers:  5\n"
     ]
    },
    {
     "name": "stdout",
     "output_type": "stream",
     "text": [
      "The Cube Sum of First 5 Natural Numbers is 225.0\n"
     ]
    }
   ],
   "source": [
    "def cubeOfNaturalNumbers():\n",
    "    in_num = int(input(\"Enter the no of Natural Numbers: \"))\n",
    "    result = pow(((in_num * (in_num +1))/2),2)\n",
    "    print(f'The Cube Sum of First {in_num} Natural Numbers is {result}')\n",
    "\n",
    "cubeOfNaturalNumbers()"
   ]
  },
  {
   "cell_type": "code",
   "execution_count": null,
   "id": "9c712bf3-4513-4ece-a4c0-27d4a4838e69",
   "metadata": {},
   "outputs": [],
   "source": []
  }
 ],
 "metadata": {
  "kernelspec": {
   "display_name": "Python 3 (ipykernel)",
   "language": "python",
   "name": "python3"
  },
  "language_info": {
   "codemirror_mode": {
    "name": "ipython",
    "version": 3
   },
   "file_extension": ".py",
   "mimetype": "text/x-python",
   "name": "python",
   "nbconvert_exporter": "python",
   "pygments_lexer": "ipython3",
   "version": "3.10.6"
  }
 },
 "nbformat": 4,
 "nbformat_minor": 5
}
