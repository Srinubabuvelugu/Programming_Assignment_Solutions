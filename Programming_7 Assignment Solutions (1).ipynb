{
 "cells": [
  {
   "cell_type": "markdown",
   "id": "b26340fd-017d-4627-91e3-07510c6fdb34",
   "metadata": {},
   "source": [
    "## Programming_7 Assignment Solutions"
   ]
  },
  {
   "cell_type": "markdown",
   "id": "1f1ce611-db46-42a7-9f07-f9884de3fbb5",
   "metadata": {},
   "source": [
    "1. Write a Python Program to find sum of array?\n",
    "2. Write a Python Program to find largest element in an array?\n",
    "3. Write a Python Program for array rotation?\n",
    "4. Write a Python Program to Split the array and add the first part to the end?\n",
    "5. Write a Python Program to check if given array is Monotonic?"
   ]
  },
  {
   "cell_type": "markdown",
   "id": "f30440c6-0dc0-493f-bc2b-ec52316ca1bd",
   "metadata": {},
   "source": [
    "#### 1. Write a Python Program to find sum of array?\n"
   ]
  },
  {
   "cell_type": "code",
   "execution_count": 2,
   "id": "4a66d0c1-cedd-4669-8f0d-4945a60edfed",
   "metadata": {},
   "outputs": [
    {
     "name": "stdin",
     "output_type": "stream",
     "text": [
      " 1 2 3 4\n"
     ]
    },
    {
     "name": "stdout",
     "output_type": "stream",
     "text": [
      "10\n"
     ]
    }
   ],
   "source": [
    "lst=list(map(int,input().split()))\n",
    "print(sum(lst))"
   ]
  },
  {
   "cell_type": "markdown",
   "id": "1e22b036-7e3a-4b3d-bef0-d87dda34942f",
   "metadata": {},
   "source": [
    "#### 2. Write a Python Program to find largest element in an array?\n"
   ]
  },
  {
   "cell_type": "code",
   "execution_count": 3,
   "id": "e1143417-ddff-4d06-b9a2-0f4c51c86b67",
   "metadata": {},
   "outputs": [
    {
     "name": "stdin",
     "output_type": "stream",
     "text": [
      "Enter a list of elements 1 2 3 4 5 8763 1\n"
     ]
    },
    {
     "name": "stdout",
     "output_type": "stream",
     "text": [
      "8763\n"
     ]
    }
   ],
   "source": [
    "lst=list(map(int,input('Enter a list of elements').split()))\n",
    "max_ele=lst[0]\n",
    "for i in lst:\n",
    "    if max_ele < i:\n",
    "        max_ele=i\n",
    "print(max_ele)\n"
   ]
  },
  {
   "cell_type": "markdown",
   "id": "a8100c69-76af-4196-a3d2-22afd5a48fd6",
   "metadata": {},
   "source": [
    "#### 3. Write a Python Program for array rotation?\n"
   ]
  },
  {
   "cell_type": "code",
   "execution_count": 5,
   "id": "540c94ea-7e0a-4ad0-b141-23f87c18efac",
   "metadata": {},
   "outputs": [
    {
     "name": "stdin",
     "output_type": "stream",
     "text": [
      "Enter a list of elements 1 2 3 4 5 6\n"
     ]
    },
    {
     "name": "stdout",
     "output_type": "stream",
     "text": [
      "The rotation of array is: 6 5 4 3 2 1\n"
     ]
    }
   ],
   "source": [
    "lst=list(map(int,input('Enter a list of elements').split()))\n",
    "print('The rotation of array is:',*lst[::-1])"
   ]
  },
  {
   "cell_type": "markdown",
   "id": "65c5e6c0-fa6e-41e4-b84c-f6cd25c5e0b9",
   "metadata": {},
   "source": [
    "#### 4. Write a Python Program to Split the array and add the first part to the end?\n"
   ]
  },
  {
   "cell_type": "code",
   "execution_count": 7,
   "id": "e937e1f3-8da7-4896-93a6-e646e0b11a30",
   "metadata": {},
   "outputs": [
    {
     "name": "stdin",
     "output_type": "stream",
     "text": [
      "Enter a array of elements 12 3 4 5 6 \n"
     ]
    },
    {
     "name": "stdout",
     "output_type": "stream",
     "text": [
      "sum of first part of array 12 and last part of array 6 is: 18\n"
     ]
    }
   ],
   "source": [
    "lst=list(map(int,input('Enter a array of elements').split()))\n",
    "print(f'sum of first part of array {lst[0]} and last part of array {lst[-1]} is: {lst[0]+lst[-1]}')\n"
   ]
  },
  {
   "cell_type": "markdown",
   "id": "d3d4b6d6-022c-496f-a9b3-ad75dedd0da1",
   "metadata": {},
   "source": [
    "#### 5. Write a Python Program to check if given array is Monotonic?"
   ]
  },
  {
   "cell_type": "code",
   "execution_count": 9,
   "id": "9997d026-b3a7-4901-ad43-5677e41a1168",
   "metadata": {},
   "outputs": [
    {
     "name": "stdin",
     "output_type": "stream",
     "text": [
      "Enter the Array:  [1,2,3,4,5,6]\n"
     ]
    },
    {
     "name": "stdout",
     "output_type": "stream",
     "text": [
      "Array [1, 2, 3, 4, 5, 6] is Monotonic\n"
     ]
    },
    {
     "name": "stdin",
     "output_type": "stream",
     "text": [
      "Enter the Array:  [4,5,1,2,5,3]\n"
     ]
    },
    {
     "name": "stdout",
     "output_type": "stream",
     "text": [
      "Array [4, 5, 1, 2, 5, 3] is Not Monotonic\n"
     ]
    }
   ],
   "source": [
    "def checkMonotonic():\n",
    "    in_arr = eval(input(\"Enter the Array: \"))\n",
    "    if(all(in_arr[i]<=in_arr[i+1] for i in range(len(in_arr)-1)) or all(in_arr[i]>=in_arr[i+1] for i in range(len(in_arr)-1))):\n",
    "        print(f'Array {in_arr} is Monotonic')\n",
    "    else:\n",
    "        print(f'Array {in_arr} is Not Monotonic')\n",
    "\n",
    "checkMonotonic()\n",
    "checkMonotonic()"
   ]
  },
  {
   "cell_type": "code",
   "execution_count": null,
   "id": "a2fceba6-fae0-4ab8-a5ed-b7de78df835e",
   "metadata": {},
   "outputs": [],
   "source": []
  }
 ],
 "metadata": {
  "kernelspec": {
   "display_name": "Python 3 (ipykernel)",
   "language": "python",
   "name": "python3"
  },
  "language_info": {
   "codemirror_mode": {
    "name": "ipython",
    "version": 3
   },
   "file_extension": ".py",
   "mimetype": "text/x-python",
   "name": "python",
   "nbconvert_exporter": "python",
   "pygments_lexer": "ipython3",
   "version": "3.10.6"
  }
 },
 "nbformat": 4,
 "nbformat_minor": 5
}
