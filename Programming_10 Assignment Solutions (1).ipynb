{
 "cells": [
  {
   "cell_type": "markdown",
   "id": "5cfcfbbb-159f-472a-b149-bee903946a9c",
   "metadata": {},
   "source": [
    "## Programming_10 Assignment Solutions"
   ]
  },
  {
   "cell_type": "markdown",
   "id": "32a377b4-4fa6-490a-a10e-79968bfe3a81",
   "metadata": {},
   "source": [
    "1. Write a Python program to find sum of elements in list?\n",
    "2. Write a Python program to Multiply all numbers in the list?\n",
    "3. Write a Python program to find smallest number in a list?\n",
    "4. Write a Python program to find largest number in a list?\n",
    "5. Write a Python program to find second largest number in a list?\n",
    "6. Write a Python program to find N largest elements from a list?\n",
    "7. Write a Python program to print even numbers in a list?\n",
    "8. Write a Python program to print odd numbers in a List?\n",
    "9. Write a Python program to Remove empty List from List?\n",
    "10. Write a Python program to Cloning or Copying a list?\n",
    "11. Write a Python program to Count occurrences of an element in a list?"
   ]
  },
  {
   "cell_type": "markdown",
   "id": "399c6f51-08f1-4fd5-8ee7-d8a232b80bd7",
   "metadata": {},
   "source": [
    "#### 1. Write a Python program to find sum of elements in list?\n"
   ]
  },
  {
   "cell_type": "code",
   "execution_count": 12,
   "id": "ce45fb35-72e2-44bf-b270-5ea89bf5eb3c",
   "metadata": {},
   "outputs": [
    {
     "name": "stdin",
     "output_type": "stream",
     "text": [
      "Enter a list of elements:  2000 40 40 10 10\n"
     ]
    },
    {
     "name": "stdout",
     "output_type": "stream",
     "text": [
      "Addition of elements in the list: 2100\n"
     ]
    }
   ],
   "source": [
    "l=list(map(int,input('Enter a list of elements: ').split()))\n",
    "s=0\n",
    "for i in l:\n",
    "    s=s+i\n",
    "print('Addition of elements in the list:',s)"
   ]
  },
  {
   "cell_type": "markdown",
   "id": "bffbf20c-feea-4b9a-a832-43f9b4340aee",
   "metadata": {},
   "source": [
    "#### 2. Write a Python program to Multiply all numbers in the list?\n"
   ]
  },
  {
   "cell_type": "code",
   "execution_count": 14,
   "id": "8be13961-5b60-4289-8f7e-61ca71d7a27e",
   "metadata": {},
   "outputs": [
    {
     "name": "stdin",
     "output_type": "stream",
     "text": [
      "Enter a list of elements:  2000 40 40 10 10\n"
     ]
    },
    {
     "name": "stdout",
     "output_type": "stream",
     "text": [
      "matriplication of elements in the list: 320000000\n"
     ]
    }
   ],
   "source": [
    "l=list(map(int,input('Enter a list of elements: ').split()))\n",
    "s=1\n",
    "for i in l:\n",
    "    s=s*i\n",
    "print('matriplication of elements in the list:',s)"
   ]
  },
  {
   "cell_type": "markdown",
   "id": "46552ee4-f67d-4233-ae55-e5cb76f44199",
   "metadata": {},
   "source": [
    "#### 3. Write a Python program to find smallest number in a list?\n"
   ]
  },
  {
   "cell_type": "code",
   "execution_count": 15,
   "id": "6ed1c697-41ad-46a5-aefd-148c088a7ead",
   "metadata": {},
   "outputs": [
    {
     "name": "stdin",
     "output_type": "stream",
     "text": [
      "Enter a list of elements:  2000 40 40 10 10\n"
     ]
    },
    {
     "name": "stdout",
     "output_type": "stream",
     "text": [
      "Smallest of element in the list: 10\n"
     ]
    }
   ],
   "source": [
    "l=list(map(int,input('Enter a list of elements: ').split()))\n",
    "s=l[0]\n",
    "for i in l:\n",
    "    if i < s:\n",
    "        s=i\n",
    "print('Smallest of element in the list:',s)"
   ]
  },
  {
   "cell_type": "markdown",
   "id": "8684d427-6716-4f4f-b9b5-2f3808ec2d48",
   "metadata": {},
   "source": [
    "#### 4. Write a Python program to find largest number in a list?\n"
   ]
  },
  {
   "cell_type": "code",
   "execution_count": 16,
   "id": "2c36a431-b986-43a7-bce9-009b262e2764",
   "metadata": {},
   "outputs": [
    {
     "name": "stdin",
     "output_type": "stream",
     "text": [
      "Enter a list of elements:  2000 40 40 10 10\n"
     ]
    },
    {
     "name": "stdout",
     "output_type": "stream",
     "text": [
      "Largest of element in the list: 2000\n"
     ]
    }
   ],
   "source": [
    "l=list(map(int,input('Enter a list of elements: ').split()))\n",
    "s=l[0]\n",
    "for i in l:\n",
    "    if i > s:\n",
    "        s=i\n",
    "print('Largest of element in the list:',s)"
   ]
  },
  {
   "cell_type": "markdown",
   "id": "8c340102-ba30-4fb9-8270-870e32220591",
   "metadata": {},
   "source": [
    "#### 5. Write a Python program to find second largest number in a list?\n"
   ]
  },
  {
   "cell_type": "code",
   "execution_count": 17,
   "id": "f92c6287-9b7d-4b89-b1a9-4fb33d7ec59a",
   "metadata": {},
   "outputs": [
    {
     "name": "stdin",
     "output_type": "stream",
     "text": [
      "Enter a list of elements:  2000 40 40 10 10 \n"
     ]
    },
    {
     "name": "stdout",
     "output_type": "stream",
     "text": [
      " Second Largest of element in the list: 40\n"
     ]
    }
   ],
   "source": [
    "l=list(map(int,input('Enter a list of elements: ').split()))\n",
    "\n",
    "lst=list(set(l))\n",
    "print(' Second Largest of element in the list:',lst[-2])"
   ]
  },
  {
   "cell_type": "markdown",
   "id": "375d0832-d226-4024-911e-a4b24dcc2839",
   "metadata": {},
   "source": [
    "#### 6. Write a Python program to find N largest elements from a list?\n"
   ]
  },
  {
   "cell_type": "code",
   "execution_count": 19,
   "id": "e3f2833e-dfb3-43e1-ae7d-ffdc56b69b5c",
   "metadata": {},
   "outputs": [
    {
     "name": "stdin",
     "output_type": "stream",
     "text": [
      "Enter a list of elements:  2000 40 40 10 10\n",
      " 1\n"
     ]
    },
    {
     "name": "stdout",
     "output_type": "stream",
     "text": [
      " 1 Largest of element in the list: 10\n"
     ]
    }
   ],
   "source": [
    "l=list(map(int,input('Enter a list of elements: ').split()))\n",
    "n=int(input())\n",
    "lst=list(set(l))\n",
    "print(f' {n} Largest of element in the list:',lst[-n])"
   ]
  },
  {
   "cell_type": "markdown",
   "id": "04971e04-ccfc-4a89-9f34-06d85b2a93f8",
   "metadata": {},
   "source": [
    "#### 7. Write a Python program to print even numbers in a list?\n"
   ]
  },
  {
   "cell_type": "code",
   "execution_count": 20,
   "id": "5b688eea-28ca-4af7-a9ca-87ed01b027d6",
   "metadata": {},
   "outputs": [
    {
     "name": "stdin",
     "output_type": "stream",
     "text": [
      "Enter a list of elements:  2000 40 40 11 6 3\n"
     ]
    },
    {
     "name": "stdout",
     "output_type": "stream",
     "text": [
      "Even elements in the list: [2000, 40, 40, 6]\n"
     ]
    }
   ],
   "source": [
    "l=list(map(int,input('Enter a list of elements: ').split()))\n",
    "s=[i for i in l if i%2==0]\n",
    " \n",
    "print('Even elements in the list:',s)\n"
   ]
  },
  {
   "cell_type": "markdown",
   "id": "934d312b-9dd1-42e4-95bc-88291e1f999c",
   "metadata": {},
   "source": [
    "#### 8. Write a Python program to print odd numbers in a List?\n"
   ]
  },
  {
   "cell_type": "code",
   "execution_count": 21,
   "id": "24ff5a5c-08ef-43a3-a91b-a367ec62b753",
   "metadata": {},
   "outputs": [
    {
     "name": "stdin",
     "output_type": "stream",
     "text": [
      "Enter a list of elements:   2000 40 40 11 6 3\n"
     ]
    },
    {
     "name": "stdout",
     "output_type": "stream",
     "text": [
      "Odd elements in the list: [11, 3]\n"
     ]
    }
   ],
   "source": [
    "l=list(map(int,input('Enter a list of elements: ').split()))\n",
    "s=[i for i in l if i%2!=0]\n",
    " \n",
    "print('Odd elements in the list:',s)\n"
   ]
  },
  {
   "cell_type": "markdown",
   "id": "2f222e88-4c02-4b9d-9e93-d6755f2ad664",
   "metadata": {},
   "source": [
    "#### 9. Write a Python program to Remove empty List from List?\n"
   ]
  },
  {
   "cell_type": "code",
   "execution_count": 29,
   "id": "e786ccd3-745d-43d9-ab60-c57e51223d4b",
   "metadata": {},
   "outputs": [
    {
     "name": "stdin",
     "output_type": "stream",
     "text": [
      "Enter a list of elements:  [1,2,3,1,],[1,2],[],[]\n"
     ]
    },
    {
     "name": "stdout",
     "output_type": "stream",
     "text": [
      "Odd elements in the list: [[1, 2, 3, 1], [1, 2]]\n"
     ]
    }
   ],
   "source": [
    "l=eval(input('Enter a list of elements: '))\n",
    "s=[i for i in l if len(i)!=0]\n",
    " \n",
    "print('Odd elements in the list:',s)\n"
   ]
  },
  {
   "cell_type": "markdown",
   "id": "3a385e86-2185-4d4b-9aab-aac60a258605",
   "metadata": {},
   "source": [
    "#### 10. Write a Python program to Cloning or Copying a list?\n"
   ]
  },
  {
   "cell_type": "code",
   "execution_count": 30,
   "id": "d0a1576f-af39-4984-a1b4-7d373647dc47",
   "metadata": {},
   "outputs": [
    {
     "name": "stdin",
     "output_type": "stream",
     "text": [
      "Enter a list [1,2,3,1]\n"
     ]
    },
    {
     "name": "stdout",
     "output_type": "stream",
     "text": [
      "[1, 2, 3, 1] 140441804489024\n",
      "[1, 2, 3, 1] 140441804492096\n"
     ]
    }
   ],
   "source": [
    "import copy\n",
    "\n",
    "def cloneList():\n",
    "    in_list = eval(input('Enter a list'))\n",
    "    print(in_list, id(in_list))\n",
    "    cloned_list = in_list.copy()\n",
    "    print(cloned_list, id(cloned_list))\n",
    "\n",
    "cloneList()"
   ]
  },
  {
   "cell_type": "markdown",
   "id": "f2d1605f-1558-42db-a127-2a65fbacfcd5",
   "metadata": {},
   "source": [
    "#### 11. Write a Python program to Count occurrences of an element in a list?"
   ]
  },
  {
   "cell_type": "code",
   "execution_count": 31,
   "id": "efcf8d8e-b4e1-4b84-8f20-77ee5f0fefab",
   "metadata": {},
   "outputs": [
    {
     "name": "stdin",
     "output_type": "stream",
     "text": [
      "Enter the elements of the list:  [1,2,3,1,2,3,1,2,3,4,5,6,4,5,6]\n",
      "Enter the element to find:  2\n"
     ]
    },
    {
     "name": "stdout",
     "output_type": "stream",
     "text": [
      "There are 3 occurences of 2 in [1, 2, 3, 1, 2, 3, 1, 2, 3, 4, 5, 6, 4, 5, 6]\n"
     ]
    }
   ],
   "source": [
    "def checkOccurence():\n",
    "    in_list = eval(input('Enter the elements of the list: '))\n",
    "    in_num = eval(input('Enter the element to find: '))\n",
    "    count = 0\n",
    "    if in_num in in_list:\n",
    "        for ele in in_list:\n",
    "            if ele == in_num:\n",
    "                count = count+1\n",
    "    print(f'There are {count} occurences of {in_num} in {in_list}')\n",
    "    \n",
    "checkOccurence()"
   ]
  },
  {
   "cell_type": "code",
   "execution_count": null,
   "id": "3be5e7ea-7daa-4519-88b7-512a3e06ccb0",
   "metadata": {},
   "outputs": [],
   "source": []
  }
 ],
 "metadata": {
  "kernelspec": {
   "display_name": "Python 3 (ipykernel)",
   "language": "python",
   "name": "python3"
  },
  "language_info": {
   "codemirror_mode": {
    "name": "ipython",
    "version": 3
   },
   "file_extension": ".py",
   "mimetype": "text/x-python",
   "name": "python",
   "nbconvert_exporter": "python",
   "pygments_lexer": "ipython3",
   "version": "3.10.6"
  }
 },
 "nbformat": 4,
 "nbformat_minor": 5
}
