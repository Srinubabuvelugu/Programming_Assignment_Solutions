{
 "cells": [
  {
   "cell_type": "markdown",
   "id": "b603feca-bbd8-4f37-b35b-d990c379737f",
   "metadata": {},
   "source": [
    "#### Question 1: Write a program that calculates and prints the value according to the given formula:\n",
    "Q = Square root of [(2 * C * D)/H]<br>\n",
    "Following are the fixed values of C and H:<br>\n",
    "C is 50. H is 30.<br>\n",
    "D is the variable whose values should be input to your program in a comma-separatedsequence.<br>\n",
    "**Example**<br>\n",
    "Let us assume the following comma separated input sequence is given to the program:<br>\n",
    "`100,150,180`<br>\n",
    "The output of the program should be:<br>\n",
    "`18,22,24`"
   ]
  },
  {
   "cell_type": "code",
   "execution_count": 1,
   "id": "8795cb0f-5d1f-42f4-baaf-76c8367474c7",
   "metadata": {},
   "outputs": [
    {
     "name": "stdin",
     "output_type": "stream",
     "text": [
      "Enter the Input:  100,150,180\n"
     ]
    },
    {
     "name": "stdout",
     "output_type": "stream",
     "text": [
      "Output: 18,22,24\n"
     ]
    }
   ],
   "source": [
    "from math import sqrt\n",
    "def calculateProgram():\n",
    "    in_num = eval(input(\"Enter the Input: \"))\n",
    "    out_num = []\n",
    "    C = 50 # Declaring and initializing constant C\n",
    "    H = 30 # Declaring and initializing constant H\n",
    "    for ele in in_num:\n",
    "        Q = str(int(sqrt((2*C*ele)/H)))\n",
    "        out_num.append(Q)\n",
    "    print(\"Output: {}\".format(','.join(out_num)))\n",
    "    \n",
    "calculateProgram()"
   ]
  },
  {
   "cell_type": "markdown",
   "id": "37277bd3-2981-4727-8559-21ad176ef1a6",
   "metadata": {},
   "source": [
    "#### Question 2: Write a program which takes 2 digits, X,Y as input and generates a 2-dimensional array. The element value in the i-th row and j-th column of the array should be i*j.\n",
    "Note: i=0,1.., X-1; j=0,1,¡Y-1.<br>\n",
    "**Example**<br>\n",
    "Suppose the following inputs are given to the program:<br>\n",
    "`3,5`<br>\n",
    "Then, the output of the program should be:<br>\n",
    "`[[0, 0, 0, 0, 0], [0, 1, 2, 3, 4], [0, 2, 4, 6, 8]]`"
   ]
  },
  {
   "cell_type": "code",
   "execution_count": 3,
   "id": "1998b978-ffb8-4754-b970-cf0d7c03a2ea",
   "metadata": {},
   "outputs": [
    {
     "name": "stdin",
     "output_type": "stream",
     "text": [
      "emter X and Y values: 3,5\n"
     ]
    },
    {
     "name": "stdout",
     "output_type": "stream",
     "text": [
      "[[0, 0, 0, 0, 0], [0, 1, 2, 3, 4], [0, 2, 4, 6, 8]]\n"
     ]
    }
   ],
   "source": [
    "n,m=eval(input('emter X and Y values:'))\n",
    "l=[]\n",
    "for i in range(n):\n",
    "    l1=[]\n",
    "    for j in range(m):\n",
    "        l1.append(i*j)\n",
    "    l.append(l1)\n",
    "print(l)"
   ]
  },
  {
   "cell_type": "markdown",
   "id": "dcfddf1e-7065-492b-b8e9-fc736090b00a",
   "metadata": {},
   "source": [
    "#### Question 3:Write a program that accepts a comma separated sequence of words as input and prints the words in a comma-separated sequence after sorting them alphabetically.\n",
    "Suppose the following input is supplied to the program:<br>\n",
    "without,hello,bag,world<br>\n",
    "Then, the output should be:<br>\n",
    "bag,hello,without,world<br>"
   ]
  },
  {
   "cell_type": "code",
   "execution_count": 7,
   "id": "b0f2bea7-4f28-45c5-9e52-0c4050cb9f98",
   "metadata": {},
   "outputs": [
    {
     "name": "stdin",
     "output_type": "stream",
     "text": [
      "Enter a string: without,hello,bag,world\n"
     ]
    },
    {
     "name": "stdout",
     "output_type": "stream",
     "text": [
      "sorted string: bag,hello,without,world\n"
     ]
    }
   ],
   "source": [
    "seq=input('Enter a string:').split(',')\n",
    "seq.sort()\n",
    "print('sorted string:',','.join(seq))\n"
   ]
  },
  {
   "cell_type": "markdown",
   "id": "ccebbd24-cc7a-4adc-8d4d-afd553ceb874",
   "metadata": {},
   "source": [
    "#### Question 4:Write a program that accepts a sequence of whitespace separated words as input and prints the words after removing all duplicate words and sorting them alphanumerically.\n",
    "Suppose the following input is supplied to the program: <br>\n",
    "hello world and practice makes perfect and hello world again Then, the output should be:<br>\n",
    "again and hello makes perfect practice world"
   ]
  },
  {
   "cell_type": "code",
   "execution_count": 14,
   "id": "d90f41f5-58df-495a-822a-91477de8b32b",
   "metadata": {},
   "outputs": [
    {
     "name": "stdin",
     "output_type": "stream",
     "text": [
      "Enter a string: hello world and practice makes perfect and hello world again \n"
     ]
    },
    {
     "name": "stdout",
     "output_type": "stream",
     "text": [
      "sorted string:  again and hello makes perfect practice world\n"
     ]
    }
   ],
   "source": [
    "seq=list(set(input('Enter a string:').split(' ')))\n",
    "seq.sort()\n",
    " \n",
    "print('sorted string:',' '.join(seq))\n"
   ]
  },
  {
   "cell_type": "markdown",
   "id": "f121dd78-bca1-4b50-b99f-22703a41c1db",
   "metadata": {},
   "source": [
    "#### Question 5: Write a program that accepts a sentence and calculate the number of letters and digits.\n",
    "Suppose the following input is supplied to the program:  <br>\n",
    "hello world! 123 <br>\n",
    "Then, the output should be:<br>\n",
    "LETTERS 10 <br>\n",
    "DIGITS 3"
   ]
  },
  {
   "cell_type": "code",
   "execution_count": 15,
   "id": "cddaf377-bd5a-44b6-9c3c-24520823b734",
   "metadata": {},
   "outputs": [
    {
     "name": "stdin",
     "output_type": "stream",
     "text": [
      "Enter the Input String:  hello world! 123\n"
     ]
    },
    {
     "name": "stdout",
     "output_type": "stream",
     "text": [
      "LETTERS 10 \n",
      "DIGITS 3\n"
     ]
    }
   ],
   "source": [
    "def countLetterAndDigits():\n",
    "    in_string = input(\"Enter the Input String: \")\n",
    "    lettersList = 'ABCDEFGHIJKLMNOPQRSTUVWXYZabcdefghijklmnopqrstuvwxyz'\n",
    "    digitsList = '0123456789'\n",
    "    letters = 0\n",
    "    digits = 0\n",
    "    for ele in in_string:\n",
    "        if ele in lettersList:\n",
    "            letters += 1\n",
    "        if ele in digitsList:\n",
    "            digits += 1\n",
    "    print(f'LETTERS {letters} \\nDIGITS {digits}')\n",
    "        \n",
    "countLetterAndDigits()"
   ]
  },
  {
   "cell_type": "markdown",
   "id": "0a1f9db2-d5c9-4cd8-8a5f-71937997f1c8",
   "metadata": {
    "tags": []
   },
   "source": [
    "#### Question 6: A website requires the users to input username and password to register. Write a program to check the validity of password input by users.\n",
    "Following are the criteria for checking the password:<br>\n",
    "1. At least 1 letter between [a-z]<br>\n",
    "2. At least 1 number between [0-9]<br>\n",
    "1. At least 1 letter between [A-Z]<br>\n",
    "3. At least 1 character from [$#@]<br>\n",
    "4. Minimum length of transaction password: 6<br>\n",
    "5. Maximum length of transaction password: 12<br>\n",
    "Your program should accept a sequence of comma separated passwords and will check them according to the above criteria. Passwords that match the criteria are to be printed, each separated by a comma.<br>\n",
    "**Example**<br>\n",
    "If the following passwords are given as input to the program:<br>\n",
    "ABd1234@1,a F1#,2w3E*,2We3345<br>\n",
    "Then, the output of the program should be:<br>\n",
    "ABd1234@1<br>"
   ]
  },
  {
   "cell_type": "code",
   "execution_count": 17,
   "id": "e2049654-6e6b-4d84-a00d-34c001453f89",
   "metadata": {},
   "outputs": [
    {
     "name": "stdin",
     "output_type": "stream",
     "text": [
      "Enter the Input String:  ABd1234@1,a F1#,2w3E*,2We3345\n"
     ]
    },
    {
     "name": "stdout",
     "output_type": "stream",
     "text": [
      "ABd1234@1\n"
     ]
    }
   ],
   "source": [
    "def checkPassword():\n",
    "    in_string = input(\"Enter the Input String: \")\n",
    "    small_list = \"abcdefghijklmnopqrstuvwxyz\"\n",
    "    cap_list = \"ABCDEFGHIJKLMNOPQRSTUVWXYZ\"\n",
    "    num_list = \"0123456789\"\n",
    "    special_list = \"$#@\"\n",
    "    for ele in in_string.split(\",\"):\n",
    "        if len(ele) <= 12 and len(ele) >=6 :\n",
    "            if any(i.isupper() for i in ele):\n",
    "                if any(i.islower() for i in ele):\n",
    "                    if any(i.isdigit() for i in ele):\n",
    "                        if any(i for i in ele if i in special_list):\n",
    "                            print(ele)\n",
    "                               \n",
    "checkPassword() "
   ]
  },
  {
   "cell_type": "code",
   "execution_count": null,
   "id": "b2a19d6a-2b86-4283-a170-dff892cc2bbe",
   "metadata": {},
   "outputs": [],
   "source": []
  }
 ],
 "metadata": {
  "kernelspec": {
   "display_name": "Python 3 (ipykernel)",
   "language": "python",
   "name": "python3"
  },
  "language_info": {
   "codemirror_mode": {
    "name": "ipython",
    "version": 3
   },
   "file_extension": ".py",
   "mimetype": "text/x-python",
   "name": "python",
   "nbconvert_exporter": "python",
   "pygments_lexer": "ipython3",
   "version": "3.10.6"
  }
 },
 "nbformat": 4,
 "nbformat_minor": 5
}
