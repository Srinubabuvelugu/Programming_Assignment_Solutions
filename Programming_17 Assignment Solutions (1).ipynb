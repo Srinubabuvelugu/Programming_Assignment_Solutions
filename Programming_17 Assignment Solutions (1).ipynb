{
 "cells": [
  {
   "cell_type": "markdown",
   "id": "bf6a7248-3830-420c-ac1d-c9a1fda9387f",
   "metadata": {},
   "source": [
    "## Programming_17 Assignment Solutions"
   ]
  },
  {
   "cell_type": "markdown",
   "id": "ffdfbdf2-0367-410a-97f1-2f2346cbc3f0",
   "metadata": {},
   "source": [
    "#### Question1. Create a function that takes three arguments a, b, c and returns the sum of the numbers that are evenly divided by c from the range a, b inclusive.\n",
    "**Examples**<br>\n",
    "evenly_divisible(1, 10, 20) ➞ 0<br>\n",
    " No number between 1 and 10 can be evenly divided by 20.<br>\n",
    "evenly_divisible(1, 10, 2) ➞ 30<br>\n",
    " 2 + 4 + 6 + 8 + 10 = 30<br>\n",
    "evenly_divisible(1, 10, 3) ➞ 18<br>\n",
    " 3 + 6 + 9 = 18<br>"
   ]
  },
  {
   "cell_type": "code",
   "execution_count": 1,
   "id": "5c48fc3b-be4d-4a2a-8ee6-cb7bcc862824",
   "metadata": {},
   "outputs": [
    {
     "name": "stdout",
     "output_type": "stream",
     "text": [
      "(1, 10, 20) ➞ 0\n",
      "(1, 10, 2) ➞ 30\n",
      "(1, 10, 3) ➞ 18\n"
     ]
    }
   ],
   "source": [
    "def evenDivisible(a,b,c):\n",
    "    divList = []\n",
    "    for num in range(a,b+1):\n",
    "        if num%c == 0:\n",
    "            divList.append(num)\n",
    "    print(f'{a,b,c} ➞ {sum(divList)}')\n",
    "\n",
    "evenDivisible(1,10,20)\n",
    "evenDivisible(1,10,2)\n",
    "evenDivisible(1,10,3)"
   ]
  },
  {
   "cell_type": "markdown",
   "id": "48e4b873-56e9-4cc8-a88c-afaa674a50da",
   "metadata": {},
   "source": [
    "3 < 7 < 11#### Question2. Create a function that returns True if a given inequality expression is correct and False otherwise.\n",
    "**Examples**<br>\n",
    "correct_signs(&quot;3 &lt; 7 &lt; 11&quot;) ➞ True<br>\n",
    "correct_signs(&quot;13 &gt; 44 &gt; 33 &gt; 1&quot;) ➞ False<br>\n",
    "correct_signs(&quot;1 &lt; 2 &lt; 6 &lt; 9 &gt; 3&quot;) ➞ True<br>\n",
    "\n",
    " "
   ]
  },
  {
   "cell_type": "code",
   "execution_count": 3,
   "id": "ba5d6767-91a1-416f-9337-8ac8a2e60723",
   "metadata": {},
   "outputs": [
    {
     "name": "stdin",
     "output_type": "stream",
     "text": [
      "Enter the inequality:  3 < 7 < 11\n"
     ]
    },
    {
     "name": "stdout",
     "output_type": "stream",
     "text": [
      "3 < 7 < 11 ➞ True\n"
     ]
    },
    {
     "name": "stdin",
     "output_type": "stream",
     "text": [
      "Enter the inequality:  13 > 44 > 33 > 1\n"
     ]
    },
    {
     "name": "stdout",
     "output_type": "stream",
     "text": [
      "13 > 44 > 33 > 1 ➞ False\n"
     ]
    },
    {
     "name": "stdin",
     "output_type": "stream",
     "text": [
      "Enter the inequality:  1 < 2 < 6 < 9 > 3\n"
     ]
    },
    {
     "name": "stdout",
     "output_type": "stream",
     "text": [
      "1 < 2 < 6 < 9 > 3 ➞ True\n"
     ]
    }
   ],
   "source": [
    "def checkEquality():\n",
    "    in_string = input('Enter the inequality: ')\n",
    "    out_bool = eval(in_string)\n",
    "    print(f'{in_string} ➞ {out_bool}')\n",
    "\n",
    "for x in range(3):\n",
    "    checkEquality()"
   ]
  },
  {
   "cell_type": "markdown",
   "id": "9c07598a-6543-46da-b5e5-0feaed099248",
   "metadata": {},
   "source": [
    "#### Question3. Create a function that replaces all the vowels in a string with a specified character.\n",
    "**Examples**<br>\n",
    "`replace_vowels(\"the aardvark\", \"#\") ➞ \"th# ##rdv#rk\"`<br>\n",
    "`replace_vowels(\"minnie mouse\", \"?\") ➞ \"m?nn?? m??s?\"`<br>\n",
    "`replace_vowels(\"shakespeare\", \"*\") ➞ \"shksp**r\"`<br>\n",
    " "
   ]
  },
  {
   "cell_type": "code",
   "execution_count": 5,
   "id": "de2b878f-e6bf-419e-95ad-cc5fe8864dcc",
   "metadata": {},
   "outputs": [
    {
     "name": "stdin",
     "output_type": "stream",
     "text": [
      "String:  the aardvark\n",
      "Replacement character:  #\n"
     ]
    },
    {
     "name": "stdout",
     "output_type": "stream",
     "text": [
      "the aardvark # ➞ th# ##rdv#rk\n"
     ]
    },
    {
     "name": "stdin",
     "output_type": "stream",
     "text": [
      "String:  minnie mouse\n",
      "Replacement character:  ?\n"
     ]
    },
    {
     "name": "stdout",
     "output_type": "stream",
     "text": [
      "minnie mouse ? ➞ m?nn?? m??s?\n"
     ]
    },
    {
     "name": "stdin",
     "output_type": "stream",
     "text": [
      "String:  shakespeare\n",
      "Replacement character:  *\n"
     ]
    },
    {
     "name": "stdout",
     "output_type": "stream",
     "text": [
      "shakespeare * ➞ sh*k*sp**r*\n"
     ]
    }
   ],
   "source": [
    "def replaceVowels():\n",
    "    vowels = ['a','e','i','o','u','A','E','I','O','U']\n",
    "    in_string = input(\"String: \")\n",
    "    in_string_copy = in_string\n",
    "    in_char = input('Replacement character: ')\n",
    "    for ele in in_string:\n",
    "        if ele in vowels:\n",
    "            in_string = in_string.replace(ele,in_char)\n",
    "    print(f'{in_string_copy} {in_char} ➞ {in_string}')\n",
    "            \n",
    "for x in range(3):\n",
    "    replaceVowels()"
   ]
  },
  {
   "cell_type": "markdown",
   "id": "53fa8683-fc79-4e49-805d-1d34bd64bdf4",
   "metadata": {},
   "source": [
    "#### Question4. Write a function that calculates the factorial of a number recursively.\n",
    "**Examples**<br>\n",
    "`factorial(5) ➞ 120`<br>\n",
    "`factorial(3) ➞ 6`<br>\n",
    "`factorial(1) ➞ 1`<br>\n",
    "`factorial(0) ➞ 1`<br>"
   ]
  },
  {
   "cell_type": "code",
   "execution_count": 6,
   "id": "938fd4b9-47f9-46b2-babc-0bc5c5f02282",
   "metadata": {},
   "outputs": [
    {
     "name": "stdout",
     "output_type": "stream",
     "text": [
      "factorial(5) ➞ 120\n",
      "factorial(3) ➞ 6\n",
      "factorial(1) ➞ 1\n",
      "factorial(0) ➞ 1\n"
     ]
    }
   ],
   "source": [
    "def factorial(n):\n",
    "    if n==0:\n",
    "        return 1\n",
    "    return n * factorial(n-1)\n",
    "\n",
    "print(f'factorial(5) ➞ {factorial(5)}')\n",
    "print(f'factorial(3) ➞ {factorial(3)}')\n",
    "print(f'factorial(1) ➞ {factorial(1)}')\n",
    "print(f'factorial(0) ➞ {factorial(0)}')"
   ]
  },
  {
   "cell_type": "markdown",
   "id": "f4ba91eb-7f24-42ee-8eb0-46b786beac7d",
   "metadata": {},
   "source": [
    "#### Question 5Hamming distance is the number of characters that differ between two strings. To illustrate:\n",
    "`String1: \"abcbba\"`<br>\n",
    "`String2: \"abcbda\"`<br>\n",
    "Hamming Distance: 1 - \"b\" vs. \"d\" is the only difference. Create a function that computes the hamming distance between two strings.<br>\n",
    "**Examples:**\n",
    "`hamming_distance(\"abcde\", \"bcdef\") ➞ 5`<br>\n",
    "`hamming_distance(\"abcde\", \"abcde\") ➞ 0`<br>\n",
    "`hamming_distance(\"strong\", \"strung\") ➞ 1`<br>"
   ]
  },
  {
   "cell_type": "code",
   "execution_count": 7,
   "id": "9c416971-c6c2-4c22-80de-2d86364e6850",
   "metadata": {},
   "outputs": [
    {
     "name": "stdin",
     "output_type": "stream",
     "text": [
      "Enter the String_1:  abcbba\n",
      "Enter the String_2:  abcbda\n"
     ]
    },
    {
     "name": "stdout",
     "output_type": "stream",
     "text": [
      "Hamning Distance b/w abcbba and abcbda ➞ 1\n"
     ]
    },
    {
     "name": "stdin",
     "output_type": "stream",
     "text": [
      "Enter the String_1:  abcde\n",
      "Enter the String_2:  bcdef\n"
     ]
    },
    {
     "name": "stdout",
     "output_type": "stream",
     "text": [
      "Hamning Distance b/w abcde and bcdef ➞ 5\n"
     ]
    },
    {
     "name": "stdin",
     "output_type": "stream",
     "text": [
      "Enter the String_1:  abcde\n",
      "Enter the String_2:  abcde\n"
     ]
    },
    {
     "name": "stdout",
     "output_type": "stream",
     "text": [
      "Hamning Distance b/w abcde and abcde ➞ 0\n"
     ]
    }
   ],
   "source": [
    "def genHamDistance():\n",
    "    in_string_1 = input('Enter the String_1: ')\n",
    "    in_string_2 = input('Enter the String_2: ')\n",
    "    if len(in_string_1) == len(in_string_2):\n",
    "        count = 0\n",
    "        for i in range(len(in_string_1)):\n",
    "            if in_string_1[i] != in_string_2[i]:\n",
    "                count = count+1\n",
    "        print(f'Hamning Distance b/w {in_string_1} and {in_string_2} ➞ {count}')\n",
    "    else:\n",
    "        print('Both Strings Must be of Same Length')\n",
    "\n",
    "for x in range(3):\n",
    "    genHamDistance()"
   ]
  },
  {
   "cell_type": "code",
   "execution_count": null,
   "id": "a51fd749-b7f4-4946-87b3-6cbb640c4b33",
   "metadata": {},
   "outputs": [],
   "source": []
  }
 ],
 "metadata": {
  "kernelspec": {
   "display_name": "Python 3 (ipykernel)",
   "language": "python",
   "name": "python3"
  },
  "language_info": {
   "codemirror_mode": {
    "name": "ipython",
    "version": 3
   },
   "file_extension": ".py",
   "mimetype": "text/x-python",
   "name": "python",
   "nbconvert_exporter": "python",
   "pygments_lexer": "ipython3",
   "version": "3.10.6"
  }
 },
 "nbformat": 4,
 "nbformat_minor": 5
}
