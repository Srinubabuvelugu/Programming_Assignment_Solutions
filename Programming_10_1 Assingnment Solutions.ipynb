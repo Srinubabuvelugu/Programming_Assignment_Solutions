{
 "cells": [
  {
   "cell_type": "markdown",
   "id": "c81149dc-88fe-4956-ade7-d3c35820b357",
   "metadata": {},
   "source": [
    "1. Write a Python program to find sum of elements in list?\n",
    "2. Write a Python program to Multiply all numbers in the list?\n",
    "3. Write a Python program to find smallest number in a list?\n",
    "4. Write a Python program to find largest number in a list?\n",
    "5. Write a Python program to find second largest number in a list?\n",
    "6. Write a Python program to find N largest elements from a list?\n",
    "7. Write a Python program to print even numbers in a list?\n",
    "8. Write a Python program to print odd numbers in a List?\n",
    "9. Write a Python program to Remove empty List from List?\n",
    "10. Write a Python program to Cloning or Copying a list?\n",
    "11. Write a Python program to Count occurrences of an element in a list?"
   ]
  },
  {
   "cell_type": "markdown",
   "id": "e52ecbd5-31f1-4752-856b-5e23398f53c6",
   "metadata": {},
   "source": [
    "#### 1. Write a Python program to find sum of elements in list?\n"
   ]
  },
  {
   "cell_type": "code",
   "execution_count": 18,
   "id": "696f7553-1b47-4647-b10e-c47f2a1e32ef",
   "metadata": {},
   "outputs": [
    {
     "name": "stdin",
     "output_type": "stream",
     "text": [
      " 1,3,2,5,1145,6461\n"
     ]
    },
    {
     "name": "stdout",
     "output_type": "stream",
     "text": [
      "sum of elements in list: 7617\n"
     ]
    }
   ],
   "source": [
    "l=list(map(int,input().split(',')))\n",
    "s=0\n",
    "for i in range(len(l)):\n",
    "    s+=l[i]\n",
    "print('sum of elements in list:',s)"
   ]
  },
  {
   "cell_type": "markdown",
   "id": "120c0c7c-507b-47ef-99e6-84834ca56e8f",
   "metadata": {},
   "source": [
    "#### 2. Write a Python program to Multiply all numbers in the list?\n"
   ]
  },
  {
   "cell_type": "code",
   "execution_count": 19,
   "id": "f60279e8-a5b6-440c-97b9-660efc2f0fd2",
   "metadata": {},
   "outputs": [
    {
     "name": "stdin",
     "output_type": "stream",
     "text": [
      " 1,2,3,4,6,85,7\n"
     ]
    },
    {
     "name": "stdout",
     "output_type": "stream",
     "text": [
      "Multiply of elements in list: 85680\n"
     ]
    }
   ],
   "source": [
    "l=list(map(int,input().split(',')))\n",
    "s=1\n",
    "for i in range(len(l)):\n",
    "    s*=l[i]\n",
    "print('Multiply of elements in list:',s)"
   ]
  },
  {
   "cell_type": "markdown",
   "id": "57e4cd24-7036-4ba8-9de7-431ca303d2d6",
   "metadata": {},
   "source": [
    "#### 3. Write a Python program to find smallest number in a list?\n"
   ]
  },
  {
   "cell_type": "code",
   "execution_count": 20,
   "id": "3144e0c1-a570-411d-b24f-5f543a9b7456",
   "metadata": {},
   "outputs": [
    {
     "name": "stdin",
     "output_type": "stream",
     "text": [
      " 50,20,2,1,23,45,6,8\n"
     ]
    },
    {
     "name": "stdout",
     "output_type": "stream",
     "text": [
      "Smallest element in the list is: 1\n"
     ]
    }
   ],
   "source": [
    "l=list(map(int,input().split(',')))\n",
    "#l=[50,20,2,1,23,45,6,8]\n",
    "s=l[0]\n",
    "for i in range(1,len(l)):\n",
    "    if s > l[i]:\n",
    "        s=l[i]\n",
    "print('Smallest element in the list is:',s)"
   ]
  },
  {
   "cell_type": "markdown",
   "id": "a5ebef0f-6a0e-4c58-ab76-b1dffd0afed9",
   "metadata": {},
   "source": [
    "#### 4. Write a Python program to find largest number in a list?\n"
   ]
  },
  {
   "cell_type": "code",
   "execution_count": 21,
   "id": "3ab4a539-aac1-41c2-9980-8a4493f89582",
   "metadata": {},
   "outputs": [
    {
     "name": "stdin",
     "output_type": "stream",
     "text": [
      " 50,20,2,1,23,251,45,6,8\n"
     ]
    },
    {
     "name": "stdout",
     "output_type": "stream",
     "text": [
      "Largest element in the list is: 251\n"
     ]
    }
   ],
   "source": [
    "l=list(map(int,input().split(',')))\n",
    "#l=[50,20,2,1,23,251,45,6,8]\n",
    "s=l[0]\n",
    "for i in range(1,len(l)):\n",
    "    if s < l[i]:\n",
    "        s=l[i]\n",
    "print('Largest element in the list is:',s)"
   ]
  },
  {
   "cell_type": "markdown",
   "id": "1a98fe4a-3a1b-487a-b536-b9f6c159c4c8",
   "metadata": {},
   "source": [
    "#### 6. Write a Python program to find N largest elements from a list?\n"
   ]
  },
  {
   "cell_type": "code",
   "execution_count": 27,
   "id": "77b2537b-e0cd-4209-95ba-082251d03822",
   "metadata": {},
   "outputs": [
    {
     "name": "stdin",
     "output_type": "stream",
     "text": [
      " 3\n",
      " 50,20,2,1,23,251,45,6,8\n"
     ]
    },
    {
     "name": "stdout",
     "output_type": "stream",
     "text": [
      "N th Largest element in the list is: 45\n"
     ]
    }
   ],
   "source": [
    "n=int(input())\n",
    "l=list(map(int,input().split(',')))\n",
    "#l=[50,20,2,1,23,251,45,6,8]\n",
    "l=list(set(l))\n",
    "l.sort(reverse=True)\n",
    "s=l[n-1]\n",
    "print('N th Largest element in the list is:',s)\n"
   ]
  },
  {
   "cell_type": "markdown",
   "id": "4c640277-b37e-4e04-82ae-ae8917a57edf",
   "metadata": {},
   "source": [
    "#### 7. Write a Python program to print even numbers in a list?\n"
   ]
  },
  {
   "cell_type": "code",
   "execution_count": 28,
   "id": "188d71aa-1496-41ce-bf72-e1e9481bff02",
   "metadata": {},
   "outputs": [
    {
     "name": "stdin",
     "output_type": "stream",
     "text": [
      " 50,20,2,1,23,251,45,6,8\n"
     ]
    },
    {
     "name": "stdout",
     "output_type": "stream",
     "text": [
      "20 2 6 8 "
     ]
    }
   ],
   "source": [
    "l=list(map(int,input().split(',')))\n",
    "#l=[50,20,2,1,23,251,45,6,8]\n",
    " \n",
    "for i in range(1,len(l)):\n",
    "    if l[i]% 2==0:\n",
    "        print(l[i],end=' ')\n",
    " "
   ]
  },
  {
   "cell_type": "markdown",
   "id": "ce93f784-5e66-48c0-b432-c3dcb60d4bf6",
   "metadata": {},
   "source": [
    "#### 8. Write a Python program to print odd numbers in a List?\n"
   ]
  },
  {
   "cell_type": "code",
   "execution_count": 29,
   "id": "eeaa804b-bd46-4810-8fbc-07803e932708",
   "metadata": {},
   "outputs": [
    {
     "name": "stdin",
     "output_type": "stream",
     "text": [
      " 50,20,2,1,23,251,45,6,8\n"
     ]
    },
    {
     "name": "stdout",
     "output_type": "stream",
     "text": [
      "1 23 251 45 "
     ]
    }
   ],
   "source": [
    "l=list(map(int,input().split(',')))\n",
    "#l=[50,20,2,1,23,251,45,6,8]\n",
    " \n",
    "for i in range(1,len(l)):\n",
    "    if l[i]% 2!=0:\n",
    "        print(l[i],end=' ')"
   ]
  },
  {
   "cell_type": "markdown",
   "id": "eb2b7496-586d-4839-a31d-9ba41fdebc93",
   "metadata": {},
   "source": [
    "#### 9. Write a Python program to Remove empty List from List?\n"
   ]
  },
  {
   "cell_type": "code",
   "execution_count": 32,
   "id": "1cd02827-f69a-4601-8bc9-5fb4502afc10",
   "metadata": {},
   "outputs": [
    {
     "name": "stdout",
     "output_type": "stream",
     "text": [
      "20 2 [1, 2, 3] 1 23 251 45 6 8 "
     ]
    }
   ],
   "source": [
    " \n",
    "l=[50,20,[],2,[1,2,3],1,23,251,45,6,8]\n",
    " \n",
    "for i in range(1,len(l)):\n",
    "    if l[i] != []:\n",
    "        print(l[i],end=' ')"
   ]
  },
  {
   "cell_type": "markdown",
   "id": "1c105962-444d-4226-a6b7-73828500e71f",
   "metadata": {},
   "source": [
    "#### 10. Write a Python program to Cloning or Copying a list?\n"
   ]
  },
  {
   "cell_type": "code",
   "execution_count": 15,
   "id": "87e38f62-ff7c-41e9-bd72-a113a46babc2",
   "metadata": {},
   "outputs": [
    {
     "name": "stdin",
     "output_type": "stream",
     "text": [
      "Enter a list [1,2,3,4,5,6,7,8,9,0]\n"
     ]
    },
    {
     "name": "stdout",
     "output_type": "stream",
     "text": [
      "[1, 2, 3, 4, 5, 6, 7, 8, 9, 0] 139920109492352\n",
      "[1, 2, 3, 4, 5, 6, 7, 8, 9, 0] 139920109783616\n"
     ]
    }
   ],
   "source": [
    "import copy\n",
    "\n",
    "def cloneList():\n",
    "    in_list = eval(input('Enter a list'))\n",
    "    print(in_list, id(in_list))\n",
    "    cloned_list = in_list.copy()\n",
    "    print(cloned_list, id(cloned_list))\n",
    "\n",
    "cloneList()"
   ]
  },
  {
   "cell_type": "markdown",
   "id": "eb6f1ac3-6fa4-44cb-8fc7-d42f78ea0441",
   "metadata": {},
   "source": [
    "#### 11. Write a Python program to Count occurrences of an element in a list?"
   ]
  },
  {
   "cell_type": "code",
   "execution_count": 16,
   "id": "409a00de-ba0d-4553-9540-ea22b185b7b8",
   "metadata": {},
   "outputs": [
    {
     "name": "stdin",
     "output_type": "stream",
     "text": [
      "Enter the elements of the list:  [1,2,3,1,2,3,1,2,3,4,5,6,4,5,6]\n",
      "Enter the element to find:  3\n"
     ]
    },
    {
     "name": "stdout",
     "output_type": "stream",
     "text": [
      "There are 3 occurences of 3 in [1, 2, 3, 1, 2, 3, 1, 2, 3, 4, 5, 6, 4, 5, 6]\n"
     ]
    }
   ],
   "source": [
    "def checkOccurence():\n",
    "    in_list = eval(input('Enter the elements of the list: '))\n",
    "    in_num = eval(input('Enter the element to find: '))\n",
    "    count = 0\n",
    "    if in_num in in_list:\n",
    "        for ele in in_list:\n",
    "            if ele == in_num:\n",
    "                count = count+1\n",
    "    print(f'There are {count} occurences of {in_num} in {in_list}')\n",
    "    \n",
    "checkOccurence()"
   ]
  },
  {
   "cell_type": "code",
   "execution_count": null,
   "id": "b9899d36-dfec-48ab-b1aa-9b71ff598f72",
   "metadata": {},
   "outputs": [],
   "source": []
  }
 ],
 "metadata": {
  "kernelspec": {
   "display_name": "Python 3 (ipykernel)",
   "language": "python",
   "name": "python3"
  },
  "language_info": {
   "codemirror_mode": {
    "name": "ipython",
    "version": 3
   },
   "file_extension": ".py",
   "mimetype": "text/x-python",
   "name": "python",
   "nbconvert_exporter": "python",
   "pygments_lexer": "ipython3",
   "version": "3.10.6"
  }
 },
 "nbformat": 4,
 "nbformat_minor": 5
}
