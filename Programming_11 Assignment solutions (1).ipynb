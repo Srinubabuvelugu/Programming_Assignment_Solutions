{
 "cells": [
  {
   "cell_type": "code",
   "execution_count": null,
   "id": "79a75c51-2c35-43b1-b778-f296e96c6b4d",
   "metadata": {},
   "outputs": [],
   "source": [
    "l=[2000,40,40,10,10]\n",
    "s1,s2=l[0],l[0]\n",
    "for i in l:\n",
    "    if i>s1:\n",
    "        s1=i\n",
    "        s2=s1\n",
    "print(s1,s2)"
   ]
  }
 ],
 "metadata": {
  "kernelspec": {
   "display_name": "Python 3 (ipykernel)",
   "language": "python",
   "name": "python3"
  },
  "language_info": {
   "codemirror_mode": {
    "name": "ipython",
    "version": 3
   },
   "file_extension": ".py",
   "mimetype": "text/x-python",
   "name": "python",
   "nbconvert_exporter": "python",
   "pygments_lexer": "ipython3",
   "version": "3.10.6"
  }
 },
 "nbformat": 4,
 "nbformat_minor": 5
}
