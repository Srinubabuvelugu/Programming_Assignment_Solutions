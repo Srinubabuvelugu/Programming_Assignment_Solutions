{
 "cells": [
  {
   "cell_type": "markdown",
   "id": "d17a1e94-7095-4c38-8a9c-e0439839e347",
   "metadata": {},
   "source": [
    "## Programming_15 AssignmentSolutions"
   ]
  },
  {
   "cell_type": "markdown",
   "id": "288da448-6df2-46ae-a2ac-0a0bb82d7aea",
   "metadata": {},
   "source": [
    "#### Question 1: Please write a program using generator to print the numbers which can be divisible by 5 and 7 between 0 and n in comma separated form while n is input by console.\n",
    "**Example:**<br>\n",
    "If the following n is given as input to the program:<br>\n",
    "`100`<br>\n",
    "Then, the output of the program should be:<br>\n",
    "`0,35,70`<br>"
   ]
  },
  {
   "cell_type": "code",
   "execution_count": 1,
   "id": "cf648434-e80f-421c-a681-f5c4ca9f7ae7",
   "metadata": {},
   "outputs": [
    {
     "name": "stdin",
     "output_type": "stream",
     "text": [
      " 100\n"
     ]
    },
    {
     "name": "stdout",
     "output_type": "stream",
     "text": [
      "0 35 70 "
     ]
    }
   ],
   "source": [
    "n=int(input())\n",
    "for i in range(n+1):\n",
    "    if i%5==0 and i%7==0:\n",
    "        print(i,end=' ')"
   ]
  },
  {
   "cell_type": "markdown",
   "id": "5c2d5231-5caa-4e5b-bdbe-d7dc62839aa1",
   "metadata": {},
   "source": [
    "#### Question 2: Please write a program using generator to print the even numbers between 0 and n in comma separated form while n is input by console.\n",
    "**Example:**<br>\n",
    "If the following n is given as input to the program:<br>\n",
    "`10`<br>\n",
    "Then, the output of the program should be:<br>\n",
    "`0,2,4,6,8,10`<br>"
   ]
  },
  {
   "cell_type": "code",
   "execution_count": 3,
   "id": "0149d1aa-3d10-49e5-8ff6-37ee78ce4d04",
   "metadata": {},
   "outputs": [
    {
     "name": "stdin",
     "output_type": "stream",
     "text": [
      " 10\n"
     ]
    },
    {
     "name": "stdout",
     "output_type": "stream",
     "text": [
      "0 2 4 6 8 10 "
     ]
    }
   ],
   "source": [
    "def function(n):\n",
    "    for i in range(n+1):\n",
    "        if i%2==0:\n",
    "            yield i\n",
    "fn=function(int(input()))\n",
    "for i in fn:\n",
    "    print(i,end=' ' )"
   ]
  },
  {
   "cell_type": "markdown",
   "id": "c9a826e3-d98f-4889-ad12-b76fcb06dbb6",
   "metadata": {},
   "source": [
    "#### Question 3: The Fibonacci Sequence is computed based on the following formula:\n",
    "`f(n)=0 if n=0`<br>\n",
    "`f(n)=1 if n=1`<br>\n",
    "`f(n)=f(n-1)+f(n-2) if n&gt;1`<br>\n",
    "Please write a program using list comprehension to print the Fibonacci Sequence in comma separated form with a given n input by console.\n",
    "**Example:**\n",
    "If the following n is given as input to the program:<br>\n",
    "`7`<br>\n",
    "Then, the output of the program should be:<br>\n",
    "`0,1,1,2,3,5,8,13`<br>"
   ]
  },
  {
   "cell_type": "code",
   "execution_count": 6,
   "id": "9acbfb87-734a-4dcc-81f8-84784ea83af4",
   "metadata": {},
   "outputs": [
    {
     "name": "stdout",
     "output_type": "stream",
     "text": [
      "[0, 1, 1, 2, 3, 5, 8]\n"
     ]
    }
   ],
   "source": [
    "def genFibonaci(in_num):\n",
    "    if in_num == 0:\n",
    "        return 0\n",
    "    elif in_num == 1:\n",
    "        return 1\n",
    "    else:\n",
    "        return genFibonaci(in_num-1)+genFibonaci(in_num-2)\n",
    "    \n",
    "print([genFibonaci(x) for x in range(7)])"
   ]
  },
  {
   "cell_type": "markdown",
   "id": "df78e1e0-f8e6-4ef2-8d89-dc02514e543e",
   "metadata": {},
   "source": [
    "#### Question 4: Assuming that we have some email addresses in the &quot;username@companyname.com&quot; format, please write program to print the user name of a given email address. Both user names and company names are composed of letters only.\n",
    "**Example:**<br>\n",
    "If the following email address is given as input to the program:<br>\n",
    "john@google.com<br>\n",
    "Then, the output of the program should be:<br>\n",
    "john<br>"
   ]
  },
  {
   "cell_type": "code",
   "execution_count": 10,
   "id": "d359d052-2f96-4e81-b812-75a140f36c45",
   "metadata": {},
   "outputs": [
    {
     "name": "stdin",
     "output_type": "stream",
     "text": [
      " john@google.com\n"
     ]
    },
    {
     "name": "stdout",
     "output_type": "stream",
     "text": [
      "john\n"
     ]
    }
   ],
   "source": [
    "s=input()\n",
    "a=s.index('@')\n",
    "print(s[:a])"
   ]
  },
  {
   "cell_type": "markdown",
   "id": "c4e71160-061d-45b3-9faf-40e8d2b5920b",
   "metadata": {},
   "source": [
    "#### Question 5: Define a class named Shape and its subclass Square. The Square class has an init function which takes a length as argument. Both classes have a area function which can print the area of the shape where Shape&#39;s area is 0 by default."
   ]
  },
  {
   "cell_type": "code",
   "execution_count": 11,
   "id": "8c7f55b6-7aa4-401d-b3a6-16c304eb1dfe",
   "metadata": {},
   "outputs": [
    {
     "name": "stdout",
     "output_type": "stream",
     "text": [
      "2500\n"
     ]
    }
   ],
   "source": [
    " \n",
    "class Shape:\n",
    "    def area(self):\n",
    "        return 0\n",
    "\n",
    "class Square(Shape):\n",
    "    def __init__(self, length):\n",
    "        self.length = length\n",
    "    def area(self):\n",
    "        return self.length*self.length\n",
    "\n",
    "square = Square(50)\n",
    "print(square.area())"
   ]
  },
  {
   "cell_type": "code",
   "execution_count": null,
   "id": "46a29a7e-3454-4257-9ca1-5d061fcfce51",
   "metadata": {},
   "outputs": [],
   "source": []
  }
 ],
 "metadata": {
  "kernelspec": {
   "display_name": "Python 3 (ipykernel)",
   "language": "python",
   "name": "python3"
  },
  "language_info": {
   "codemirror_mode": {
    "name": "ipython",
    "version": 3
   },
   "file_extension": ".py",
   "mimetype": "text/x-python",
   "name": "python",
   "nbconvert_exporter": "python",
   "pygments_lexer": "ipython3",
   "version": "3.10.6"
  }
 },
 "nbformat": 4,
 "nbformat_minor": 5
}
