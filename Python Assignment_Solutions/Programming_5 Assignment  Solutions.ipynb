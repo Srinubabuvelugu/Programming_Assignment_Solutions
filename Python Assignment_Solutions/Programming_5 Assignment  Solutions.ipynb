{
 "cells": [
  {
   "cell_type": "markdown",
   "id": "0f9a5cec-1858-4e53-b60c-e075b5d7a8d7",
   "metadata": {},
   "source": [
    "# Programming Assignment 5 Solutions"
   ]
  },
  {
   "cell_type": "markdown",
   "id": "aa577e6b-70fa-40f3-86d6-376a3c0237bc",
   "metadata": {},
   "source": [
    "1. Write a Python Program to Find LCM?\n",
    "2. Write a Python Program to Find HCF?\n",
    "3. Write a Python Program to Convert Decimal to Binary, Octal and Hexadecimal?\n",
    "4. Write a Python Program To Find ASCII value of a character?\n",
    "5. Write a Python Program to Make a Simple Calculator with 4 basic mathematical operations?"
   ]
  },
  {
   "cell_type": "markdown",
   "id": "acdc8659-00f5-4410-a826-63a008ddf9bf",
   "metadata": {},
   "source": [
    "#### 1. Write a Python Program to Find LCM?\n"
   ]
  },
  {
   "cell_type": "code",
   "execution_count": null,
   "id": "1d7f49ec-fb18-4ace-a9a9-330c1f264b51",
   "metadata": {},
   "outputs": [],
   "source": [
    "def findTheLcm(*args):\n",
    "    if x_term > y_term:\n",
    "        greater = x_term\n",
    "    else:\n",
    "        greater = x_term\n",
    "    while True:\n",
    "        if((greater%x_term == 0) and (greater%y_term == 0)):\n",
    "            lcm = greater\n",
    "            break\n",
    "        else:\n",
    "            greater +=1\n",
    "    print(f'The LCM of {x_term},{y_term} is {lcm}')\n",
    "\n",
    "findTheLcm(30,60)\n",
    "findTheLcm(15,20)\n",
    "findTheLcm(54,1000)"
   ]
  }
 ],
 "metadata": {
  "kernelspec": {
   "display_name": "Python 3 (ipykernel)",
   "language": "python",
   "name": "python3"
  },
  "language_info": {
   "codemirror_mode": {
    "name": "ipython",
    "version": 3
   },
   "file_extension": ".py",
   "mimetype": "text/x-python",
   "name": "python",
   "nbconvert_exporter": "python",
   "pygments_lexer": "ipython3",
   "version": "3.10.6"
  }
 },
 "nbformat": 4,
 "nbformat_minor": 5
}
