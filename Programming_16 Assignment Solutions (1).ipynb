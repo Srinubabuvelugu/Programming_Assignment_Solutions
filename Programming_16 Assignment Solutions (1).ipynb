{
 "cells": [
  {
   "cell_type": "markdown",
   "id": "b1dcd308-d2ac-4dd8-9003-1d0f462c7d17",
   "metadata": {},
   "source": [
    "## Programming_16 Assignment Solutions"
   ]
  },
  {
   "cell_type": "markdown",
   "id": "15adb41e-ec03-4b85-9637-1cb687f84e20",
   "metadata": {},
   "source": [
    "#### Question1. Write a function that stutters a word as if someone is struggling to read it. The first two letters are repeated twice with an ellipsis ... and space after each, and then the word is pronounced with a question mark ?.\n",
    "**Examples**<br>\n",
    "stutter(&quot;incredible&quot;) ➞ &quot;in... in... incredible?&quot;<br>\n",
    "stutter(&quot;enthusiastic&quot;) ➞ &quot;en... en... enthusiastic?&quot;<br>\n",
    "stutter(&quot;outstanding&quot;) ➞ &quot;ou... ou... outstanding?&quot;<br>\n",
    "\n",
    "Hint :- Assume all input is in lower case and at least two characters long.<br>"
   ]
  },
  {
   "cell_type": "code",
   "execution_count": 2,
   "id": "aa13c44e-2c62-482f-8f2b-708df6b3f46f",
   "metadata": {},
   "outputs": [
    {
     "name": "stdin",
     "output_type": "stream",
     "text": [
      "Enter the Word : incredible\n"
     ]
    },
    {
     "name": "stdout",
     "output_type": "stream",
     "text": [
      "incredible ➞ in... in... incredible?\n"
     ]
    },
    {
     "name": "stdin",
     "output_type": "stream",
     "text": [
      "Enter the Word : enthusiastic\n"
     ]
    },
    {
     "name": "stdout",
     "output_type": "stream",
     "text": [
      "enthusiastic ➞ en... en... enthusiastic?\n"
     ]
    },
    {
     "name": "stdin",
     "output_type": "stream",
     "text": [
      "Enter the Word : outstanding\n"
     ]
    },
    {
     "name": "stdout",
     "output_type": "stream",
     "text": [
      "outstanding ➞ ou... ou... outstanding?\n"
     ]
    }
   ],
   "source": [
    "def stutterWord():\n",
    "    in_string = input('Enter the Word :')\n",
    "    out_string = in_string.replace(in_string[0:2],((in_string[0:2]+'... ')*2)+ in_string[0:2])  +'?'\n",
    "    print(f'{in_string} ➞ {out_string}')\n",
    "\n",
    "for i in range(3):\n",
    "    stutterWord()"
   ]
  },
  {
   "cell_type": "markdown",
   "id": "15d474c3-2e57-426a-8de7-323cc0c9d481",
   "metadata": {},
   "source": [
    "#### Question 2.Create a function that takes an angle in radians and returns the corresponding angle in degrees rounded to one decimal place.\n",
    "**Examples**<br>\n",
    "`radians_to_degrees(1) ➞ 57.3`<br>\n",
    "`radians_to_degrees(20) ➞ 1145.9`<br>\n",
    "`radians_to_degrees(50) ➞ 2864.8`<br>"
   ]
  },
  {
   "cell_type": "code",
   "execution_count": 5,
   "id": "5e397245-ed77-47cd-b113-d069fff84d60",
   "metadata": {},
   "outputs": [
    {
     "name": "stdin",
     "output_type": "stream",
     "text": [
      "Enter the angle in Radians:  1\n"
     ]
    },
    {
     "name": "stdout",
     "output_type": "stream",
     "text": [
      "1 radian(s) ➞ 57.3 degrees\n"
     ]
    },
    {
     "name": "stdin",
     "output_type": "stream",
     "text": [
      "Enter the angle in Radians:  20\n"
     ]
    },
    {
     "name": "stdout",
     "output_type": "stream",
     "text": [
      "20 radian(s) ➞ 1145.9 degrees\n"
     ]
    },
    {
     "name": "stdin",
     "output_type": "stream",
     "text": [
      "Enter the angle in Radians:  50\n"
     ]
    },
    {
     "name": "stdout",
     "output_type": "stream",
     "text": [
      "50 radian(s) ➞ 2864.8 degrees\n"
     ]
    }
   ],
   "source": [
    "import math\n",
    "def radian_to_degree():\n",
    "    in_num = int(input('Enter the angle in Radians: '))\n",
    "    out_num = (180/math.pi)*in_num\n",
    "    print(f'{in_num} radian(s) ➞ {out_num:.1f} degrees')\n",
    "\n",
    "for x in range(3):\n",
    "    radian_to_degree()"
   ]
  },
  {
   "cell_type": "markdown",
   "id": "053a78c5-8de7-470a-a244-1c4bca00bcef",
   "metadata": {},
   "source": [
    "#### Question 3. In this challenge, establish if a given integer num is a Curzon number. If 1 plus 2 elevated to num is exactly divisible by 1 plus 2 multiplied by num, then num is a Curzon\n",
    "number.<br>\n",
    "Given a non-negative integer num, implement a function that returns True if num is a Curzonnumber, or False otherwise.<br>\n",
    "**Examples**\n",
    "is_curzon(5) ➞ True<br>\n",
    "2 ** 5 + 1 = 33<br>\n",
    "2 * 5 + 1 = 11<br>\n",
    "33 is a multiple of 11<br>\n",
    "is_curzon(10) ➞ False<br>\n",
    " 2 ** 10 + 1 = 1025<br>\n",
    "2 * 10 + 1 = 21<br>\n",
    "1025 is not a multiple of 21<br>\n",
    "is_curzon(14) ➞ True<br>\n",
    "2 ** 14 + 1 = 16385<br>\n",
    "2 * 14 + 1 = 29<br>\n",
    "16385 is a multiple of 29<br>"
   ]
  },
  {
   "cell_type": "code",
   "execution_count": 6,
   "id": "fb5d9479-b880-48dd-9d12-fff795a93fb3",
   "metadata": {},
   "outputs": [
    {
     "name": "stdin",
     "output_type": "stream",
     "text": [
      "Enter a number:  5\n"
     ]
    },
    {
     "name": "stdout",
     "output_type": "stream",
     "text": [
      "5 is a Curzon Number\n"
     ]
    },
    {
     "name": "stdin",
     "output_type": "stream",
     "text": [
      "Enter a number:  10\n"
     ]
    },
    {
     "name": "stdout",
     "output_type": "stream",
     "text": [
      "10 is Not a Curzon Number\n"
     ]
    },
    {
     "name": "stdin",
     "output_type": "stream",
     "text": [
      "Enter a number:  14\n"
     ]
    },
    {
     "name": "stdout",
     "output_type": "stream",
     "text": [
      "14 is a Curzon Number\n"
     ]
    },
    {
     "name": "stdin",
     "output_type": "stream",
     "text": [
      "Enter a number:  15\n"
     ]
    },
    {
     "name": "stdout",
     "output_type": "stream",
     "text": [
      "15 is Not a Curzon Number\n"
     ]
    }
   ],
   "source": [
    "def checkCurzon():\n",
    "    in_num = int(input(\"Enter a number: \"))\n",
    "    if (pow(2,in_num)+1)%((2*in_num)+1) == 0:\n",
    "        print(f'{in_num} is a Curzon Number')\n",
    "    else:\n",
    "        print(f'{in_num} is Not a Curzon Number')\n",
    "\n",
    "for x in range(4):\n",
    "    checkCurzon()\n"
   ]
  },
  {
   "cell_type": "markdown",
   "id": "bf0d1d98-ec62-4555-b2ea-064c135c54ea",
   "metadata": {},
   "source": [
    "#### Question 4.Given the side length x find the area of a hexagon.\n",
    "\n",
    "**Examples**<br>\n",
    "area_of_hexagon(1) ➞ 2.6<br>\n",
    "area_of_hexagon(2) ➞ 10.4<br>\n",
    "area_of_hexagon(3) ➞ 23.4<br>"
   ]
  },
  {
   "cell_type": "code",
   "execution_count": 7,
   "id": "e8ec7f22-f20e-4d3c-b9f7-55c99ea37a68",
   "metadata": {},
   "outputs": [
    {
     "name": "stdin",
     "output_type": "stream",
     "text": [
      "Enter the side length of a Hexagon:  1\n"
     ]
    },
    {
     "name": "stdout",
     "output_type": "stream",
     "text": [
      "Area for Hexagon of sidelength 1 ➞ 2.6\n"
     ]
    },
    {
     "name": "stdin",
     "output_type": "stream",
     "text": [
      "Enter the side length of a Hexagon:  2\n"
     ]
    },
    {
     "name": "stdout",
     "output_type": "stream",
     "text": [
      "Area for Hexagon of sidelength 2 ➞ 10.4\n"
     ]
    },
    {
     "name": "stdin",
     "output_type": "stream",
     "text": [
      "Enter the side length of a Hexagon:  3\n"
     ]
    },
    {
     "name": "stdout",
     "output_type": "stream",
     "text": [
      "Area for Hexagon of sidelength 3 ➞ 23.4\n"
     ]
    }
   ],
   "source": [
    "import math\n",
    "def areaOfHexagon():\n",
    "    in_num = int(input('Enter the side length of a Hexagon: '))\n",
    "    out_num = ((3*math.sqrt(3))/2)*(pow(in_num,2))\n",
    "    print(f'Area for Hexagon of sidelength {in_num} ➞ {out_num:.1f}')\n",
    "    \n",
    "for x in range(3):\n",
    "    areaOfHexagon()"
   ]
  },
  {
   "cell_type": "markdown",
   "id": "54694351-04c6-44c1-ac7a-35f72a072016",
   "metadata": {},
   "source": [
    "#### Question 5. Create a function that returns a base-2 (binary) representation of a base-10 (decimal) string number. To convert is simple: ((2) means base-2 and (10) means base-10) 010101001(2) = 1 + 8 + 32 + 128. Going from right to left, the value of the most right bit is 1, now from that every bit to the left will be x2 the value, value of an 8 bit binary numbers are (256, 128, 64, 32, 16, 8, 4, 2, 1).\n",
    "**Examples**\n",
    "binary(1) ➞ &quot;1&quot;<br>\n",
    "`1*1 = 1`<br>\n",
    "binary(5) ➞ &quot;101&quot;<br>\n",
    "`1*1 + 1*4 = 5`<br>\n",
    "binary(10) ➞ &quot;1010&quot;<br>\n",
    "`1*2 + 1*8 = 10`<br>"
   ]
  },
  {
   "cell_type": "code",
   "execution_count": 8,
   "id": "bfca4f82-3da4-40cc-9e25-e0bf53d8f614",
   "metadata": {},
   "outputs": [
    {
     "name": "stdin",
     "output_type": "stream",
     "text": [
      "Enter a Number:  1\n"
     ]
    },
    {
     "name": "stdout",
     "output_type": "stream",
     "text": [
      "Binary of 1 ➞ 1\n"
     ]
    },
    {
     "name": "stdin",
     "output_type": "stream",
     "text": [
      "Enter a Number:  5\n"
     ]
    },
    {
     "name": "stdout",
     "output_type": "stream",
     "text": [
      "Binary of 5 ➞ 101\n"
     ]
    },
    {
     "name": "stdin",
     "output_type": "stream",
     "text": [
      "Enter a Number:  10\n"
     ]
    },
    {
     "name": "stdout",
     "output_type": "stream",
     "text": [
      "Binary of 10 ➞ 1010\n"
     ]
    }
   ],
   "source": [
    "def getBinary():\n",
    "    in_num = int(input(\"Enter a Number: \"))\n",
    "    out_num = bin(in_num).replace('0b','') \n",
    "    print(f'Binary of {in_num} ➞ {out_num}')\n",
    "\n",
    "for x in range(3):\n",
    "    getBinary()"
   ]
  },
  {
   "cell_type": "code",
   "execution_count": null,
   "id": "a4164d85-0454-42e5-b800-55bb28a332cd",
   "metadata": {},
   "outputs": [],
   "source": []
  }
 ],
 "metadata": {
  "kernelspec": {
   "display_name": "Python 3 (ipykernel)",
   "language": "python",
   "name": "python3"
  },
  "language_info": {
   "codemirror_mode": {
    "name": "ipython",
    "version": 3
   },
   "file_extension": ".py",
   "mimetype": "text/x-python",
   "name": "python",
   "nbconvert_exporter": "python",
   "pygments_lexer": "ipython3",
   "version": "3.10.6"
  }
 },
 "nbformat": 4,
 "nbformat_minor": 5
}
