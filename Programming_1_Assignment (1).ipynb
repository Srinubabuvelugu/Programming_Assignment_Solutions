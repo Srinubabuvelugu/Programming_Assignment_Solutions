{
 "cells": [
  {
   "cell_type": "markdown",
   "id": "d2d365ff-1718-44f6-bb43-88bb7da6277c",
   "metadata": {},
   "source": [
    "1. Write a Python program to print &quot;Hello Python&quot;?\n",
    "2. Write a Python program to do arithmetical operations addition and division.?\n",
    "3. Write a Python program to find the area of a triangle?\n",
    "4. Write a Python program to swap two variables?\n",
    "5. Write a Python program to generate a random number?"
   ]
  },
  {
   "cell_type": "markdown",
   "id": "8b17c1c4-19ce-4983-871f-6708213682b5",
   "metadata": {},
   "source": [
    "#### 1. Write a Python program to print \"Hello Python\"?"
   ]
  },
  {
   "cell_type": "code",
   "execution_count": 2,
   "id": "537066aa-afff-48dd-b55b-8a5a792a03e3",
   "metadata": {},
   "outputs": [
    {
     "name": "stdout",
     "output_type": "stream",
     "text": [
      "Hello Python\n"
     ]
    }
   ],
   "source": [
    "print(\"Hello Python\")"
   ]
  },
  {
   "cell_type": "markdown",
   "id": "40508eb4-36ae-4e83-b97a-5ffb3f87f448",
   "metadata": {},
   "source": [
    "#### 2. Write a Python program to do arithmetical operations addition and division.?"
   ]
  },
  {
   "cell_type": "code",
   "execution_count": 17,
   "id": "83ebfed1-9aea-4338-8fda-b9d96287db63",
   "metadata": {},
   "outputs": [
    {
     "name": "stdout",
     "output_type": "stream",
     "text": [
      "14\n",
      "6\n",
      "40\n",
      "2.5\n",
      "2\n"
     ]
    }
   ],
   "source": [
    "#Addition\n",
    "a=10\n",
    "b=4\n",
    " \n",
    "print(a+b) # addition\n",
    "print(a-b) # Sutraction\n",
    "print(a*b) # multiplication\n",
    "#Division\n",
    "print(a/b)\n",
    "print(a//b)"
   ]
  },
  {
   "cell_type": "markdown",
   "id": "377a5184-0695-428e-9707-1259755dd612",
   "metadata": {},
   "source": [
    "#### 3. Write a Python program to find the area of a triangle?"
   ]
  },
  {
   "cell_type": "code",
   "execution_count": 4,
   "id": "c4384364-2d9f-4a9d-ba42-323c02c11564",
   "metadata": {},
   "outputs": [
    {
     "name": "stdout",
     "output_type": "stream",
     "text": [
      "17.5\n"
     ]
    }
   ],
   "source": [
    "base=5\n",
    "height=7\n",
    "area_of_triangle=0.5 * base * height\n",
    "print(area_of_triangle)"
   ]
  },
  {
   "cell_type": "markdown",
   "id": "e1c30299-48c6-49cb-b6f1-9d0b1aec38e0",
   "metadata": {},
   "source": [
    "#### 4. Write a Python program to swap two variables?"
   ]
  },
  {
   "cell_type": "code",
   "execution_count": 6,
   "id": "3a056e43-ddb5-4c12-956b-3e7c57a98284",
   "metadata": {},
   "outputs": [
    {
     "name": "stdout",
     "output_type": "stream",
     "text": [
      "20 10\n",
      "300 100\n"
     ]
    }
   ],
   "source": [
    "a=10\n",
    "b=20\n",
    "#method 1\n",
    "a,b = b,a\n",
    "print(a, b)\n",
    "#method 2\n",
    "a=100\n",
    "b=300\n",
    "temp =a\n",
    "a=b\n",
    "b=temp\n",
    "print(a , b)"
   ]
  },
  {
   "cell_type": "markdown",
   "id": "3cda6079-5a54-4b99-941e-8030ea5c6160",
   "metadata": {},
   "source": [
    "#### 5. Write a Python program to generate a random number?"
   ]
  },
  {
   "cell_type": "code",
   "execution_count": 12,
   "id": "ee8ed690-0fd8-4d43-a3c1-a7254f8c3371",
   "metadata": {},
   "outputs": [
    {
     "name": "stdout",
     "output_type": "stream",
     "text": [
      "884718524\n"
     ]
    }
   ],
   "source": [
    "from random import randint\n",
    "print(randint(1,1000000000))"
   ]
  },
  {
   "cell_type": "code",
   "execution_count": 14,
   "id": "7a88ec40-5202-4b80-8e8c-3c37da3cbb78",
   "metadata": {},
   "outputs": [
    {
     "name": "stdout",
     "output_type": "stream",
     "text": [
      "947124245\n"
     ]
    }
   ],
   "source": [
    "from random import randint\n",
    "print(randint(1,1000000000))"
   ]
  },
  {
   "cell_type": "code",
   "execution_count": 15,
   "id": "eba33bda-19a6-41aa-a254-c57027b75656",
   "metadata": {},
   "outputs": [
    {
     "name": "stdout",
     "output_type": "stream",
     "text": [
      "288590232\n"
     ]
    }
   ],
   "source": [
    "from random import randint\n",
    "print(randint(1,1000000000))"
   ]
  },
  {
   "cell_type": "code",
   "execution_count": null,
   "id": "1c3902c9-7644-479c-afdf-f5bde4f4c541",
   "metadata": {},
   "outputs": [],
   "source": []
  },
  {
   "cell_type": "code",
   "execution_count": null,
   "id": "af9e3871-3120-4677-a824-7ed19f238243",
   "metadata": {},
   "outputs": [],
   "source": [
    "\n"
   ]
  }
 ],
 "metadata": {
  "kernelspec": {
   "display_name": "Python 3 (ipykernel)",
   "language": "python",
   "name": "python3"
  },
  "language_info": {
   "codemirror_mode": {
    "name": "ipython",
    "version": 3
   },
   "file_extension": ".py",
   "mimetype": "text/x-python",
   "name": "python",
   "nbconvert_exporter": "python",
   "pygments_lexer": "ipython3",
   "version": "3.10.6"
  }
 },
 "nbformat": 4,
 "nbformat_minor": 5
}
